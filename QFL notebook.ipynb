{
 "cells": [
  {
   "cell_type": "markdown",
   "metadata": {},
   "source": [
    "# QFL Ternary Plotting (Pettijohn, 1977)"
   ]
  },
  {
   "cell_type": "markdown",
   "metadata": {},
   "source": [
    "This notebook demonstrates how to use this simple module to plot petrographic data on a QFL ternary diagram. The data we will use comes from Bassis et al (2016).\n",
    "\n",
    "First we need to load the petrographic data using pandas, the data is contained within a file named data.csv and includes data for monocrystalline quartz (Qm), undulose monocrystalline quartz (Qmu), polycrystalline quartz (Qp), plagioclase feldspar (Plag), alkali feldspar (Afsp), lithic fragments (Lf), cement/pseudo matrix (Cem+PM) and pore space (Pore). It also incldes the classification made by the authors  - although they employ the classification scheme of McBride (1963).\n",
    "\n",
    "Once the data is in we can sum the various quartz types and feldspar types as Q and F respectively, as well as assign the lithic fragment data to the variable L."
   ]
  },
  {
   "cell_type": "code",
   "execution_count": 220,
   "metadata": {},
   "outputs": [
    {
     "name": "stdout",
     "output_type": "stream",
     "text": [
      "                       Qm        Qmu         Qp       Plag       Afsp  \\\n",
      "Classification                                                          \n",
      "Subarkose       28.000000  21.666667  11.000000   3.333333   7.333333   \n",
      "Quartz arenite  30.333333  35.666667   0.666667   2.000000   0.000000   \n",
      "Subarkose       22.000000  51.666667   1.666667   4.333333   1.000000   \n",
      "Subarkose       42.000000  13.333333   1.000000   4.000000  13.333333   \n",
      "Subarkose       43.666667  21.333333   1.000000   3.333333   7.666667   \n",
      "Arkose          44.333333  14.000000   0.333333   0.666667  18.000000   \n",
      "Arkose          24.666667  24.000000   0.666667   3.333333  21.333333   \n",
      "Arkose          27.666667  25.000000   1.666667   2.666667  13.000000   \n",
      "Quartz arenite  30.000000  25.000000   4.333333   0.000000   0.000000   \n",
      "Quartz arenite  66.666667  26.666667   3.666667   0.000000   0.000000   \n",
      "Quartz arenite  26.333333  38.333333   0.333333   0.000000   0.000000   \n",
      "Subarkose       29.333333  37.000000   1.333333   1.333333   7.333333   \n",
      "Arkose          20.437956  28.102190   1.094891  19.343066   2.554745   \n",
      "Arkose          28.030303  23.484848   0.378788  15.530303   1.893939   \n",
      "Subarkose       35.000000  36.666667   0.666667   3.666667   1.666667   \n",
      "Subarkose       31.000000  18.666667   0.333333   3.000000   0.666667   \n",
      "Quartz arenite  47.333333  20.000000   0.666667   0.000000   0.000000   \n",
      "Quartz arenite  33.000000  31.333333   5.666667   0.666667   0.333333   \n",
      "Quartz arenite  51.567944  25.435540   1.393728   1.742160   0.348432   \n",
      "Subarkose       42.333333  30.000000   0.333333   4.333333   4.333333   \n",
      "Quartz arenite  31.000000  31.333333  12.000000   0.333333   0.000000   \n",
      "Quartz arenite  31.000000  35.333333   3.000000   1.000000   0.000000   \n",
      "Quartz arenite  29.333333  32.000000  11.666667   0.000000   0.000000   \n",
      "Quartz arenite  31.164384  40.753425   2.739726   2.054795   0.342466   \n",
      "Quartz arenite  30.333333  33.333333   6.666667   0.000000   0.000000   \n",
      "Quartz arenite  23.000000  39.333333   7.666667   0.333333   0.000000   \n",
      "Arkose          27.666667   4.333333   1.000000  19.333333   5.000000   \n",
      "Quartz arenite  38.666667  29.333333  11.333333   0.000000   0.000000   \n",
      "Quartz arenite  42.333333  19.666667   3.666667   0.000000   0.000000   \n",
      "Subarkose       43.333333  16.333333   3.666667   2.333333   9.333333   \n",
      "Subarkose       35.000000  36.000000   1.666667   1.666667   5.666667   \n",
      "Subarkose       27.000000  35.666667   5.000000   2.666667   3.666667   \n",
      "Quartz arenite  22.333333  40.333333  13.000000   1.666667   0.000000   \n",
      "Quartz arenite  29.000000  42.333333   4.000000   0.666667   0.333333   \n",
      "Arkose           8.333333  12.333333   1.000000  12.333333   5.666667   \n",
      "Sublitharenite  24.666667  32.000000   9.333333   0.333333   1.333333   \n",
      "Quartz arenite  24.666667  44.000000   7.000000   1.000000   0.666667   \n",
      "Quartz arenite  35.338346  42.857143   4.135338   0.000000   0.000000   \n",
      "Quartz arenite  25.000000  45.000000   1.666667   0.000000   0.000000   \n",
      "Quartz arenite  31.666667  44.000000   3.333333   2.000000   0.000000   \n",
      "Quartz arenite  30.000000  39.333333   1.666667   1.333333   0.333333   \n",
      "Quartz arenite  49.003984  13.545817   9.561753   0.000000   0.398406   \n",
      "Quartz arenite  32.666667  41.000000   4.333333   0.000000   0.000000   \n",
      "Quartz arenite  34.333333  30.000000   1.000000   1.000000   0.000000   \n",
      "\n",
      "                      Lf       Pore     PM+Cem  \n",
      "Classification                                  \n",
      "Subarkose       0.000000  17.666667  11.000000  \n",
      "Quartz arenite  0.000000  26.333333   5.000000  \n",
      "Subarkose       0.000000  17.333333   2.000000  \n",
      "Subarkose       0.000000  10.000000  16.333333  \n",
      "Subarkose       0.000000  19.333333   3.666667  \n",
      "Arkose          0.000000  15.333333   7.333333  \n",
      "Arkose          0.000000   9.333333  16.666667  \n",
      "Arkose          0.000000  13.000000  17.000000  \n",
      "Quartz arenite  0.000000   1.666667  39.000000  \n",
      "Quartz arenite  0.000000   3.000000   0.000000  \n",
      "Quartz arenite  0.000000  18.000000  17.000000  \n",
      "Subarkose       0.000000  20.000000   3.666667  \n",
      "Arkose          0.000000   8.029197  20.437956  \n",
      "Arkose          0.000000   8.712121  21.969697  \n",
      "Subarkose       0.000000  14.333333   8.000000  \n",
      "Subarkose       0.000000   3.333333  43.000000  \n",
      "Quartz arenite  0.000000  16.333333  15.666667  \n",
      "Quartz arenite  0.000000  25.333333   3.666667  \n",
      "Quartz arenite  0.000000  13.240418   6.271777  \n",
      "Subarkose       0.000000   5.333333  13.333333  \n",
      "Quartz arenite  0.666667  15.000000   9.666667  \n",
      "Quartz arenite  0.000000   4.666667  25.000000  \n",
      "Quartz arenite  0.000000   9.000000  18.000000  \n",
      "Quartz arenite  0.000000  10.273973  12.671233  \n",
      "Quartz arenite  0.000000   5.666667  24.000000  \n",
      "Quartz arenite  0.000000   6.000000  23.666667  \n",
      "Arkose          0.000000   0.000000  42.666667  \n",
      "Quartz arenite  4.000000   7.333333   9.333333  \n",
      "Quartz arenite  0.000000  20.666667  13.666667  \n",
      "Subarkose       0.000000  12.333333  12.666667  \n",
      "Subarkose       0.666667  16.666667   2.666667  \n",
      "Subarkose       0.333333  20.666667   5.000000  \n",
      "Quartz arenite  0.000000  17.000000   5.666667  \n",
      "Quartz arenite  0.000000  14.000000   9.666667  \n",
      "Arkose          0.000000   0.333333  60.000000  \n",
      "Sublitharenite  6.000000  19.333333   7.000000  \n",
      "Quartz arenite  1.000000  19.000000   2.666667  \n",
      "Quartz arenite  0.751880   6.015038  10.902256  \n",
      "Quartz arenite  0.000000  16.666667  11.666667  \n",
      "Quartz arenite  0.000000  15.666667   3.333333  \n",
      "Quartz arenite  0.000000  26.000000   1.333333  \n",
      "Quartz arenite  0.000000   3.984064  23.505976  \n",
      "Quartz arenite  0.333333  14.666667   7.000000  \n",
      "Quartz arenite  0.000000   8.333333  25.333333  \n"
     ]
    }
   ],
   "source": [
    "import numpy as np\n",
    "import matplotlib.pyplot as plt\n",
    "import pandas as pd\n",
    "from matplotlib.path import Path\n",
    "import matplotlib.patches as patches\n",
    "%matplotlib inline  \n",
    "\n",
    "data = pd.read_csv(r'data.csv')\n",
    "# set classification as index\n",
    "data_pct = data.set_index('Classification')\n",
    "# convert counts to percent\n",
    "data_pct = data_pct.div(data_pct.sum(axis=1), axis=0)*100\n",
    "# sum quartz types\n",
    "Q = data_pct['Qm']+data_pct['Qmu']+data_pct['Qp']\n",
    "F = data_pct['Plag']+data_pct['Afsp']\n",
    "L = data_pct['Lf']\n",
    "matrix = data_pct['PM+Cem']\n",
    "print(data_pct)\n"
   ]
  },
  {
   "cell_type": "markdown",
   "metadata": {},
   "source": [
    "Once we have our summed QFL data we need to renormalise these three components to 100%."
   ]
  },
  {
   "cell_type": "code",
   "execution_count": 221,
   "metadata": {
    "scrolled": true
   },
   "outputs": [
    {
     "name": "stdout",
     "output_type": "stream",
     "text": [
      "            Q          F    L\n",
      "0   85.046729  14.953271  0.0\n",
      "1   97.087379   2.912621  0.0\n",
      "2   93.388430   6.611570  0.0\n",
      "3   76.470588  23.529412  0.0\n",
      "4   85.714286  14.285714  0.0\n",
      "5   75.862069  24.137931  0.0\n",
      "6   66.666667  33.333333  0.0\n",
      "7   77.619048  22.380952  0.0\n",
      "8  100.000000   0.000000  0.0\n",
      "9  100.000000   0.000000  0.0\n"
     ]
    }
   ],
   "source": [
    "top = Q\n",
    "left = F\n",
    "right = L\n",
    "\n",
    "stacked_data = np.vstack((top, left, right))\n",
    "summed_rows = np.sum(stacked_data[0:], axis=0)\n",
    "stacked_data = np.vstack((stacked_data, summed_rows))\n",
    "\n",
    "Q = (stacked_data[0] / stacked_data[3] * 100)\n",
    "F = (stacked_data[1] / stacked_data[3] * 100)\n",
    "L = (stacked_data[2] / stacked_data[3] * 100)\n",
    "dataset = pd.DataFrame({'Q':Q[:10],'F':F[:10],'L':L[:10]})\n",
    "print (dataset)  "
   ]
  },
  {
   "cell_type": "markdown",
   "metadata": {},
   "source": [
    "We are then going to transform the QFL data so that it can be plotted on a 2d scatter plot using matplotlibs plt.scatter function - this can be achieved with the following code."
   ]
  },
  {
   "cell_type": "code",
   "execution_count": 232,
   "metadata": {},
   "outputs": [
    {
     "name": "stdout",
     "output_type": "stream",
     "text": [
      "          x         y\n",
      "0  0.425234  0.850467\n",
      "1  0.485437  0.970874\n",
      "2  0.466942  0.933884\n",
      "3  0.382353  0.764706\n",
      "4  0.428571  0.857143\n",
      "5  0.379310  0.758621\n",
      "6  0.333333  0.666667\n",
      "7  0.388095  0.776190\n",
      "8  0.500000  1.000000\n",
      "9  0.500000  1.000000\n"
     ]
    }
   ],
   "source": [
    "y = Q / 100\n",
    "x = (1 - F / 100) - (y / 2)\n",
    "dataset = pd.DataFrame({'x':x[:10],'y':y[:10]}) # make dataframe of first 10 items\n",
    "print (dataset)"
   ]
  },
  {
   "cell_type": "markdown",
   "metadata": {},
   "source": [
    "We now need to define out fields as polygons to plot on the 2d scatter plot, the QFL coords for each field are given below. We can also initialise the figure and annotate the plot with the polygons."
   ]
  },
  {
   "cell_type": "code",
   "execution_count": 223,
   "metadata": {},
   "outputs": [],
   "source": [
    "c1 = ['Quartz arenite', (0.5, 0.9),(0.525, 0.95), (0.5, 1), (0.475, 0.95), (0.5, 0.9)]\n",
    "c2 = ['Sublitharenite', (0.5, 0.5),(0.625, 0.75), (0.525, 0.95), (0.5, 0.9), (0.5, 0.5)]\n",
    "c3 = ['Lithic arenite', (1, 0),(0.625, 0.75), (0.5, 0.5), (0.5, 0.0), (1, 0)]\n",
    "c4 = ['Arkosic arenite', (0, 0),(0.375, 0.75), (0.5, 0.5), (0.5, 0.0), (0, 0)]\n",
    "c5 = ['Subarkose', (0.5, 0.5),(0.375, 0.75), (0.475, 0.95), (0.5, 0.9), (0.5, 0.5)]\n",
    "classifications = [c1, c2, c3, c4, c5]"
   ]
  },
  {
   "cell_type": "code",
   "execution_count": 233,
   "metadata": {},
   "outputs": [
    {
     "data": {
      "image/png": "[encoded data removed]",
      "text/plain": [
       "<Figure size 432x288 with 1 Axes>"
      ]
     },
     "metadata": {
      "needs_background": "light"
     },
     "output_type": "display_data"
    }
   ],
   "source": [
    "fig, ax = plt.subplots() # create figure and axis\n",
    "ax.set_frame_on(False)\n",
    "ax.axes.get_xaxis().set_visible(False)\n",
    "ax.axes.get_yaxis().set_visible(False)\n",
    "ax.set_xlim(0, 1)\n",
    "ax.set_ylim(0, 1)\n",
    "# label the apexes of the triangle\n",
    "ax.text(-0.02, -0.04, \"Feldspar\", ha=\"center\", va=\"center\", rotation=0, size=12)\n",
    "ax.text(1.02, -0.04, \"Lithics\", ha=\"center\", va=\"center\", rotation=0, size=12)\n",
    "ax.text(0.5, 1.007, \"Quartz\", ha=\"center\", va=\"center\", rotation=0, size=12)\n",
    "\n",
    "# add the fields for each petrograpic classification\n",
    "for i in range(len(classifications)):\n",
    "    polygon = classifications[i][1:]\n",
    "    path = Path(polygon)\n",
    "    # check if every polygon in the loop contains points\n",
    "    index = path.contains_points(np.column_stack((x, y))) \n",
    "    if index.any():\n",
    "        # if points within change colour to green\n",
    "        ax.add_patch(patches.PathPatch(path, alpha=0.1, facecolor='green', lw=0, zorder=0)) \n",
    "    patch = patches.PathPatch(path, color=None, facecolor=None, fill=False, lw=1.5, zorder=1)\n",
    "    ax.add_patch(patch)\n",
    "\n",
    "# label the fields\n",
    "ax.text(0.62, 0.95, \"Quartz arenite\", ha=\"center\", va=\"center\", rotation=0, size=8)\n",
    "ax.text(0.7, 0.8, \"Sublitharenitee\", ha=\"center\", va=\"center\", rotation=0, size=8)\n",
    "ax.text(0.75, 0.05, 'Lithic arenite', ha=\"center\", va=\"center\", rotation=0, size=8)\n",
    "ax.text(0.3, 0.8, \"Subarkose\", ha=\"center\", va=\"center\", rotation=0, size=8)\n",
    "ax.text(0.25, 0.05, 'Arkosic arenite', ha=\"center\", va=\"center\", rotation=0, size=8)\n",
    "# plot the \n",
    "ax.scatter(x, y, color='r', s=15, edgecolor='k', zorder=10)\n",
    "\n",
    "plt.show()"
   ]
  },
  {
   "cell_type": "markdown",
   "metadata": {},
   "source": [
    "Now we want to be able to add the Pettijohn classification to our datatable so that we can export this and have the classifications alongside the data. We loop over each polygon in turn to determine if points reside within it. Here we also need to use the percentage matrix if we have it so that more clay rich samples can be correctly classified."
   ]
  },
  {
   "cell_type": "code",
   "execution_count": 231,
   "metadata": {},
   "outputs": [
    {
     "name": "stdout",
     "output_type": "stream",
     "text": [
      "                 Qm  Qmu  Qp  Plag  Afsp  Lf  Pore  PM+Cem        Pettijohn\n",
      "Classification                                                             \n",
      "Subarkose        84   65  33    10    22   0    53      33        Subarkose\n",
      "Quartz arenite   91  107   2     6     0   0    79      15   Quartz arenite\n",
      "Subarkose        66  155   5    13     3   0    52       6        Subarkose\n",
      "Subarkose       126   40   3    12    40   0    30      49        Subarkose\n",
      "Subarkose       131   64   3    10    23   0    58      11        Subarkose\n",
      "Arkose          133   42   1     2    54   0    46      22        Subarkose\n",
      "Arkose           74   72   2    10    64   0    28      50  Arkosic arenite\n",
      "Arkose           83   75   5     8    39   0    39      51        Subarkose\n",
      "Quartz arenite   90   75  13     0     0   0     5     117   Quartz arenite\n",
      "Quartz arenite  200   80  11     0     0   0     9       0   Quartz arenite\n",
      "Quartz arenite   79  115   1     0     0   0    54      51   Quartz arenite\n",
      "Subarkose        88  111   4     4    22   0    60      11        Subarkose\n",
      "Arkose           56   77   3    53     7   0    22      56  Arkosic arenite\n",
      "Arkose           74   62   1    41     5   0    23      58        Subarkose\n",
      "Subarkose       105  110   2    11     5   0    43      24        Subarkose\n",
      "Subarkose        93   56   1     9     2   0    10     129        Subarkose\n",
      "Quartz arenite  142   60   2     0     0   0    49      47   Quartz arenite\n",
      "Quartz arenite   99   94  17     2     1   0    76      11   Quartz arenite\n",
      "Quartz arenite  148   73   4     5     1   0    38      18   Quartz arenite\n",
      "Subarkose       127   90   1    13    13   0    16      40        Subarkose\n",
      "Quartz arenite   93   94  36     1     0   2    45      29   Quartz arenite\n",
      "Quartz arenite   93  106   9     3     0   0    14      75   Quartz arenite\n",
      "Quartz arenite   88   96  35     0     0   0    27      54   Quartz arenite\n",
      "Quartz arenite   91  119   8     6     1   0    30      37   Quartz arenite\n",
      "Quartz arenite   91  100  20     0     0   0    17      72   Quartz arenite\n",
      "Quartz arenite   69  118  23     1     0   0    18      71   Quartz arenite\n",
      "Arkose           83   13   3    58    15   0     0     128  Arkosic arenite\n",
      "Quartz arenite  116   88  34     0     0  12    22      28   Sublitharenite\n",
      "Quartz arenite  127   59  11     0     0   0    62      41   Quartz arenite\n",
      "Subarkose       130   49  11     7    28   0    37      38        Subarkose\n",
      "Subarkose       105  108   5     5    17   2    50       8        Subarkose\n",
      "Subarkose        81  107  15     8    11   1    62      15        Subarkose\n",
      "Quartz arenite   67  121  39     5     0   0    51      17   Quartz arenite\n",
      "Quartz arenite   87  127  12     2     1   0    42      29   Quartz arenite\n",
      "Arkose           25   37   3    37    17   0     1     180  Arkosic arenite\n",
      "Sublitharenite   74   96  28     1     4  18    58      21   Sublitharenite\n",
      "Quartz arenite   74  132  21     3     2   3    57       8   Quartz arenite\n",
      "Quartz arenite   94  114  11     0     0   2    16      29   Quartz arenite\n",
      "Quartz arenite   75  135   5     0     0   0    50      35   Quartz arenite\n",
      "Quartz arenite   95  132  10     6     0   0    47      10   Quartz arenite\n",
      "Quartz arenite   90  118   5     4     1   0    78       4   Quartz arenite\n",
      "Quartz arenite  123   34  24     0     1   0    10      59   Quartz arenite\n",
      "Quartz arenite   98  123  13     0     0   1    44      21   Quartz arenite\n",
      "Quartz arenite  103   90   3     3     0   0    25      76   Quartz arenite\n"
     ]
    }
   ],
   "source": [
    "final_data = data.copy()\n",
    "for i in range(len(classifications)):\n",
    "    polygon = classifications[i][1:]\n",
    "    path = Path(polygon)\n",
    "    # check if points are within each polygon  \n",
    "    # the radius argument allows samples plotting on boundary to be classified\n",
    "    index = path.contains_points(np.column_stack((x, y)), radius=-0.01) \n",
    "    index1 = path.contains_points(np.column_stack((x, y)), radius=0.01)\n",
    "    for j in range(len(index)):\n",
    "        if index[j] == True or index1[j] == True:\n",
    "            final_data.loc[j, \"Pettijohn\"] = classifications[i][0] # add the classification to the column Pettijohn in the datatable\n",
    "            if matrix[j] > 15 and  matrix[j] < 75: # change the classification if maxtix > 15% and less <75%\n",
    "                if classifications[i][0] == 'Sublith Arenite' or classifications[i][0] == 'Lith Arenite':\n",
    "                    final_data.loc[j, \"Pettijohn\"] = 'Lithic Wacke'\n",
    "                elif classifications[i][0] == 'Sub Arkose' or classifications[i][0] == 'Arkosic Arenite':\n",
    "                    final_data.loc[j, \"Pettijohn\"] = 'Arkpsic Wacke'\n",
    "                elif classifications[i][0] == 'Quartz Arenite':\n",
    "                     final_data.loc[j, \"Pettijohn\"] = 'Quartz Wacke'\n",
    "            elif matrix[j] > 75:\n",
    "                final_data.loc[j, \"Pettijohn\"] = 'Mudrock'\n",
    "        else:\n",
    "            pass\n",
    "final_data = final_data.set_index('Classification')\n",
    "print(final_data)"
   ]
  },
  {
   "cell_type": "code",
   "execution_count": null,
   "metadata": {},
   "outputs": [],
   "source": []
  }
 ],
 "metadata": {
  "kernelspec": {
   "display_name": "Python 3",
   "language": "python",
   "name": "python3"
  },
  "language_info": {
   "codemirror_mode": {
    "name": "ipython",
    "version": 3
   },
   "file_extension": ".py",
   "mimetype": "text/x-python",
   "name": "python",
   "nbconvert_exporter": "python",
   "pygments_lexer": "ipython3",
   "version": "3.7.1"
  }
 },
 "nbformat": 4,
 "nbformat_minor": 2
}
